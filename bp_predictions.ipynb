{
 "cells": [
  {
   "cell_type": "markdown",
   "metadata": {},
   "source": [
    "# Cheminformatics in Python: Predicting Boiling Point of Molecules\n",
    "Hannah Winter\n",
    "\n",
    "Inspiration of this project comes from Chanin Nantasenamat and his recreation of Delaneys work predicting molecules solubility. Boiling points in the exercise came from:https://www.engineeringtoolbox.com/boiling-points-fluids-gases-d_155.html, with some more abiguous inclusions removed."
   ]
  },
  {
   "cell_type": "markdown",
   "metadata": {},
   "source": [
    "### Part One: Import Packages"
   ]
  },
  {
   "cell_type": "code",
   "execution_count": 23,
   "metadata": {},
   "outputs": [],
   "source": [
    "import pandas as pd\n",
    "import numpy as np\n",
    "import seaborn as sns\n",
    "from matplotlib import pyplot as plt\n",
    "from rdkit import Chem \n",
    "from urllib.request import urlopen\n",
    "import sys\n",
    "from rdkit.Chem import Descriptors\n",
    "from sklearn.model_selection import train_test_split\n",
    "from sklearn import linear_model"
   ]
  },
  {
   "cell_type": "markdown",
   "metadata": {},
   "source": [
    "### Part Two: Dowload and Clean data"
   ]
  },
  {
   "cell_type": "code",
   "execution_count": 24,
   "metadata": {},
   "outputs": [],
   "source": [
    "basedata = pd.read_csv('boiling_points.csv', encoding= 'unicode_escape')\n",
    "#Converting molecule name to SMILES\n",
    "def CIRconvert(ids):\n",
    "    try:\n",
    "        url = 'http://cactus.nci.nih.gov/chemical/structure/' + ids + '/smiles'\n",
    "        ans = urlopen(url).read().decode('utf8')\n",
    "        return ans\n",
    "    except:\n",
    "        return np.nan\n",
    "#Replace spaces with %20 for http accuracy\n",
    "basedata['Compound'] = basedata['Compound'].replace(' ', '%20', regex=True)\n",
    "\n",
    "#apply coversion and save, as processing time is long  \n",
    "# basedata['SMILES'] = basedata['Compound'].apply(CIRconvert)\n",
    "# basedata.to_csv('shortcut.csv')"
   ]
  },
  {
   "cell_type": "code",
   "execution_count": 25,
   "metadata": {},
   "outputs": [
    {
     "data": {
      "text/html": [
       "<div>\n",
       "<style scoped>\n",
       "    .dataframe tbody tr th:only-of-type {\n",
       "        vertical-align: middle;\n",
       "    }\n",
       "\n",
       "    .dataframe tbody tr th {\n",
       "        vertical-align: top;\n",
       "    }\n",
       "\n",
       "    .dataframe thead th {\n",
       "        text-align: right;\n",
       "    }\n",
       "</style>\n",
       "<table border=\"1\" class=\"dataframe\">\n",
       "  <thead>\n",
       "    <tr style=\"text-align: right;\">\n",
       "      <th></th>\n",
       "      <th>index</th>\n",
       "      <th>Compound</th>\n",
       "      <th>boiling point</th>\n",
       "      <th>SMILES</th>\n",
       "    </tr>\n",
       "  </thead>\n",
       "  <tbody>\n",
       "    <tr>\n",
       "      <th>0</th>\n",
       "      <td>0</td>\n",
       "      <td>Acetaldehyde</td>\n",
       "      <td>20.80</td>\n",
       "      <td>CC=O</td>\n",
       "    </tr>\n",
       "    <tr>\n",
       "      <th>1</th>\n",
       "      <td>1</td>\n",
       "      <td>Acetic%20acid%20anhydride</td>\n",
       "      <td>139.00</td>\n",
       "      <td>CC(=O)OC(C)=O</td>\n",
       "    </tr>\n",
       "    <tr>\n",
       "      <th>2</th>\n",
       "      <td>2</td>\n",
       "      <td>Acetone</td>\n",
       "      <td>56.08</td>\n",
       "      <td>CC(C)=O</td>\n",
       "    </tr>\n",
       "    <tr>\n",
       "      <th>3</th>\n",
       "      <td>4</td>\n",
       "      <td>Acetylene</td>\n",
       "      <td>-84.00</td>\n",
       "      <td>C#C</td>\n",
       "    </tr>\n",
       "    <tr>\n",
       "      <th>4</th>\n",
       "      <td>5</td>\n",
       "      <td>Acrolein</td>\n",
       "      <td>52.30</td>\n",
       "      <td>C=CC=O</td>\n",
       "    </tr>\n",
       "    <tr>\n",
       "      <th>...</th>\n",
       "      <td>...</td>\n",
       "      <td>...</td>\n",
       "      <td>...</td>\n",
       "      <td>...</td>\n",
       "    </tr>\n",
       "    <tr>\n",
       "      <th>128</th>\n",
       "      <td>147</td>\n",
       "      <td>Triethanolamine</td>\n",
       "      <td>350.00</td>\n",
       "      <td>OCCN(CCO)CCO</td>\n",
       "    </tr>\n",
       "    <tr>\n",
       "      <th>129</th>\n",
       "      <td>149</td>\n",
       "      <td>Water</td>\n",
       "      <td>100.00</td>\n",
       "      <td>O</td>\n",
       "    </tr>\n",
       "    <tr>\n",
       "      <th>130</th>\n",
       "      <td>150</td>\n",
       "      <td>o-Xylene</td>\n",
       "      <td>144.40</td>\n",
       "      <td>Cc1ccccc1C</td>\n",
       "    </tr>\n",
       "    <tr>\n",
       "      <th>131</th>\n",
       "      <td>151</td>\n",
       "      <td>m-Xylene</td>\n",
       "      <td>139.10</td>\n",
       "      <td>Cc1cccc(C)c1</td>\n",
       "    </tr>\n",
       "    <tr>\n",
       "      <th>132</th>\n",
       "      <td>152</td>\n",
       "      <td>p-Xylene</td>\n",
       "      <td>138.30</td>\n",
       "      <td>Cc1ccc(C)cc1</td>\n",
       "    </tr>\n",
       "  </tbody>\n",
       "</table>\n",
       "<p>133 rows × 4 columns</p>\n",
       "</div>"
      ],
      "text/plain": [
       "     index                   Compound  boiling point         SMILES\n",
       "0        0               Acetaldehyde          20.80           CC=O\n",
       "1        1  Acetic%20acid%20anhydride         139.00  CC(=O)OC(C)=O\n",
       "2        2                    Acetone          56.08        CC(C)=O\n",
       "3        4                  Acetylene         -84.00            C#C\n",
       "4        5                   Acrolein          52.30         C=CC=O\n",
       "..     ...                        ...            ...            ...\n",
       "128    147            Triethanolamine         350.00   OCCN(CCO)CCO\n",
       "129    149                      Water         100.00              O\n",
       "130    150                   o-Xylene         144.40     Cc1ccccc1C\n",
       "131    151                   m-Xylene         139.10   Cc1cccc(C)c1\n",
       "132    152                   p-Xylene         138.30   Cc1ccc(C)cc1\n",
       "\n",
       "[133 rows x 4 columns]"
      ]
     },
     "execution_count": 25,
     "metadata": {},
     "output_type": "execute_result"
    }
   ],
   "source": [
    "bp = pd.read_csv('shortcut.csv', index_col=0)\n",
    "bp_drop = bp.dropna().reset_index()\n",
    "bp_drop"
   ]
  },
  {
   "cell_type": "markdown",
   "metadata": {},
   "source": [
    "### Part 3: Explore with RDKit"
   ]
  },
  {
   "cell_type": "code",
   "execution_count": 26,
   "metadata": {},
   "outputs": [
    {
     "data": {
      "image/png": "[encoded data removed]",
      "text/plain": [
       "<rdkit.Chem.rdchem.Mol at 0x186a4f4f990>"
      ]
     },
     "execution_count": 26,
     "metadata": {},
     "output_type": "execute_result"
    }
   ],
   "source": [
    "#test a making an RDKit object from SMILES\n",
    "m = Chem.MolFromSmiles(bp_drop.SMILES[131])\n",
    "m"
   ]
  },
  {
   "cell_type": "code",
   "execution_count": 27,
   "metadata": {},
   "outputs": [
    {
     "data": {
      "text/plain": [
       "8"
      ]
     },
     "execution_count": 27,
     "metadata": {},
     "output_type": "execute_result"
    }
   ],
   "source": [
    "m.GetNumAtoms()"
   ]
  },
  {
   "cell_type": "code",
   "execution_count": 28,
   "metadata": {},
   "outputs": [
    {
     "data": {
      "text/plain": [
       "106.16799999999999"
      ]
     },
     "execution_count": 28,
     "metadata": {},
     "output_type": "execute_result"
    }
   ],
   "source": [
    "#Get molecular weight\n",
    "molwt = Descriptors.MolWt(m)\n",
    "molwt"
   ]
  },
  {
   "cell_type": "code",
   "execution_count": 29,
   "metadata": {},
   "outputs": [
    {
     "data": {
      "text/plain": [
       "0"
      ]
     },
     "execution_count": 29,
     "metadata": {},
     "output_type": "execute_result"
    }
   ],
   "source": [
    "#Calculate inter-molecular forces\n",
    "#hydrogen bonds:\n",
    "def count_hbonds(m):\n",
    "    deg_hbond = 0\n",
    "    for i in range(m.GetNumAtoms()):\n",
    "        if m.GetAtomWithIdx(i).GetMass() == 18.998: \n",
    "            if m.GetAtomWithIdx(i).GetNumImplicitHs() >=1: deg_hbond += 2\n",
    "        if m.GetAtomWithIdx(i).GetMass() == 15.999: \n",
    "            if m.GetAtomWithIdx(i).GetNumImplicitHs() >=1: deg_hbond += 1\n",
    "        if m.GetAtomWithIdx(i).GetMass() == 14.007: \n",
    "            if m.GetAtomWithIdx(i).GetNumImplicitHs() >=1: deg_hbond += 0.5\n",
    "            \n",
    "    return deg_hbond\n",
    "\n",
    "hbonds = count_hbonds(m)\n",
    "hbonds\n"
   ]
  },
  {
   "cell_type": "code",
   "execution_count": 30,
   "metadata": {},
   "outputs": [
    {
     "data": {
      "text/plain": [
       "11.0"
      ]
     },
     "execution_count": 30,
     "metadata": {},
     "output_type": "execute_result"
    }
   ],
   "source": [
    "#Calculate intra-molecular forces:\n",
    "def intramol(m):\n",
    "    bond_count = sum([m.GetBondWithIdx(i).GetBondTypeAsDouble() for i in range(m.GetNumBonds())])\n",
    "    return bond_count \n",
    "intra = intramol(m)\n",
    "intra"
   ]
  },
  {
   "cell_type": "code",
   "execution_count": 31,
   "metadata": {},
   "outputs": [
    {
     "data": {
      "text/plain": [
       "133"
      ]
     },
     "execution_count": 31,
     "metadata": {},
     "output_type": "execute_result"
    }
   ],
   "source": [
    "#Calculate molecular descriptors\n",
    "smiles = []\n",
    "for element in bp_drop.SMILES:\n",
    "    mol = Chem.MolFromSmiles(element)\n",
    "    smiles.append(mol)\n",
    "    \n",
    "smiles_molwt = [Descriptors.MolWt(element) for element in smiles]\n",
    "df= pd.DataFrame(smiles_molwt, columns=['MolecularWgt'])\n",
    "df['HBonds'] = [count_hbonds(m) for m in smiles]\n",
    "df['DegBonding'] = [intramol(m) for m in smiles]\n",
    "len(smiles)"
   ]
  },
  {
   "cell_type": "markdown",
   "metadata": {},
   "source": [
    "### Part 4: Data Analysis"
   ]
  },
  {
   "cell_type": "code",
   "execution_count": 32,
   "metadata": {},
   "outputs": [
    {
     "data": {
      "text/html": [
       "<div>\n",
       "<style scoped>\n",
       "    .dataframe tbody tr th:only-of-type {\n",
       "        vertical-align: middle;\n",
       "    }\n",
       "\n",
       "    .dataframe tbody tr th {\n",
       "        vertical-align: top;\n",
       "    }\n",
       "\n",
       "    .dataframe thead th {\n",
       "        text-align: right;\n",
       "    }\n",
       "</style>\n",
       "<table border=\"1\" class=\"dataframe\">\n",
       "  <thead>\n",
       "    <tr style=\"text-align: right;\">\n",
       "      <th></th>\n",
       "      <th>MolecularWgt</th>\n",
       "      <th>HBonds</th>\n",
       "      <th>DegBonding</th>\n",
       "    </tr>\n",
       "  </thead>\n",
       "  <tbody>\n",
       "    <tr>\n",
       "      <th>0</th>\n",
       "      <td>44.053</td>\n",
       "      <td>0.0</td>\n",
       "      <td>3.0</td>\n",
       "    </tr>\n",
       "    <tr>\n",
       "      <th>1</th>\n",
       "      <td>102.089</td>\n",
       "      <td>0.0</td>\n",
       "      <td>8.0</td>\n",
       "    </tr>\n",
       "    <tr>\n",
       "      <th>2</th>\n",
       "      <td>58.080</td>\n",
       "      <td>0.0</td>\n",
       "      <td>4.0</td>\n",
       "    </tr>\n",
       "    <tr>\n",
       "      <th>3</th>\n",
       "      <td>26.038</td>\n",
       "      <td>0.0</td>\n",
       "      <td>3.0</td>\n",
       "    </tr>\n",
       "    <tr>\n",
       "      <th>4</th>\n",
       "      <td>56.064</td>\n",
       "      <td>0.0</td>\n",
       "      <td>5.0</td>\n",
       "    </tr>\n",
       "    <tr>\n",
       "      <th>...</th>\n",
       "      <td>...</td>\n",
       "      <td>...</td>\n",
       "      <td>...</td>\n",
       "    </tr>\n",
       "    <tr>\n",
       "      <th>128</th>\n",
       "      <td>149.190</td>\n",
       "      <td>3.0</td>\n",
       "      <td>9.0</td>\n",
       "    </tr>\n",
       "    <tr>\n",
       "      <th>129</th>\n",
       "      <td>18.015</td>\n",
       "      <td>1.0</td>\n",
       "      <td>0.0</td>\n",
       "    </tr>\n",
       "    <tr>\n",
       "      <th>130</th>\n",
       "      <td>106.168</td>\n",
       "      <td>0.0</td>\n",
       "      <td>11.0</td>\n",
       "    </tr>\n",
       "    <tr>\n",
       "      <th>131</th>\n",
       "      <td>106.168</td>\n",
       "      <td>0.0</td>\n",
       "      <td>11.0</td>\n",
       "    </tr>\n",
       "    <tr>\n",
       "      <th>132</th>\n",
       "      <td>106.168</td>\n",
       "      <td>0.0</td>\n",
       "      <td>11.0</td>\n",
       "    </tr>\n",
       "  </tbody>\n",
       "</table>\n",
       "<p>133 rows × 3 columns</p>\n",
       "</div>"
      ],
      "text/plain": [
       "     MolecularWgt  HBonds  DegBonding\n",
       "0          44.053     0.0         3.0\n",
       "1         102.089     0.0         8.0\n",
       "2          58.080     0.0         4.0\n",
       "3          26.038     0.0         3.0\n",
       "4          56.064     0.0         5.0\n",
       "..            ...     ...         ...\n",
       "128       149.190     3.0         9.0\n",
       "129        18.015     1.0         0.0\n",
       "130       106.168     0.0        11.0\n",
       "131       106.168     0.0        11.0\n",
       "132       106.168     0.0        11.0\n",
       "\n",
       "[133 rows x 3 columns]"
      ]
     },
     "execution_count": 32,
     "metadata": {},
     "output_type": "execute_result"
    }
   ],
   "source": [
    "#Assign X and Y sets\n",
    "X = df\n",
    "X"
   ]
  },
  {
   "cell_type": "code",
   "execution_count": 33,
   "metadata": {},
   "outputs": [
    {
     "data": {
      "text/plain": [
       "0       20.80\n",
       "1      139.00\n",
       "2       56.08\n",
       "3      -84.00\n",
       "4       52.30\n",
       "        ...  \n",
       "128    350.00\n",
       "129    100.00\n",
       "130    144.40\n",
       "131    139.10\n",
       "132    138.30\n",
       "Name: boiling point, Length: 133, dtype: float64"
      ]
     },
     "execution_count": 33,
     "metadata": {},
     "output_type": "execute_result"
    }
   ],
   "source": [
    "Y = bp_drop.iloc[:,2]\n",
    "Y"
   ]
  },
  {
   "cell_type": "code",
   "execution_count": 34,
   "metadata": {},
   "outputs": [],
   "source": [
    "#Data split:\n",
    "X_train, X_test, Y_train, Y_test = train_test_split(X, Y, test_size = 0.2)"
   ]
  },
  {
   "cell_type": "code",
   "execution_count": 35,
   "metadata": {},
   "outputs": [
    {
     "data": {
      "text/plain": [
       "LinearRegression(copy_X=True, fit_intercept=True, n_jobs=None, normalize=False)"
      ]
     },
     "execution_count": 35,
     "metadata": {},
     "output_type": "execute_result"
    }
   ],
   "source": [
    "#training the model\n",
    "model = linear_model.LinearRegression()\n",
    "model.fit(X_train, Y_train)"
   ]
  },
  {
   "cell_type": "code",
   "execution_count": 36,
   "metadata": {},
   "outputs": [],
   "source": [
    "Y_pred_train = model.predict(X_train)"
   ]
  },
  {
   "cell_type": "code",
   "execution_count": 37,
   "metadata": {},
   "outputs": [
    {
     "name": "stdout",
     "output_type": "stream",
     "text": [
      "Coefficients: [ 1.01825637 72.23245575  5.066091  ]\n",
      "Intercept: -55.56118035531108\n",
      "Mean squared error (MSE): 5545.21\n",
      "Coefficient of determination (R^2): 0.55\n"
     ]
    }
   ],
   "source": [
    "#Results of the model\n",
    "from sklearn.metrics import mean_squared_error\n",
    "from sklearn.metrics import r2_score\n",
    "print('Coefficients:', model.coef_)\n",
    "print('Intercept:', model.intercept_)\n",
    "print('Mean squared error (MSE): ' + str(round(mean_squared_error(Y_train, Y_pred_train), 2)))\n",
    "print('Coefficient of determination (R^2): ' + str(round(r2_score(Y_train, Y_pred_train), 2)))"
   ]
  },
  {
   "cell_type": "code",
   "execution_count": 38,
   "metadata": {},
   "outputs": [],
   "source": [
    "Y_pred_test = model.predict(X_test)"
   ]
  },
  {
   "cell_type": "code",
   "execution_count": 39,
   "metadata": {},
   "outputs": [
    {
     "data": {
      "image/png": "[encoded data removed]",
      "text/plain": [
       "<Figure size 360x792 with 2 Axes>"
      ]
     },
     "metadata": {
      "needs_background": "light"
     },
     "output_type": "display_data"
    }
   ],
   "source": [
    "#Plotting the actual vs predicted\n",
    "plt.figure(figsize=(5,11))\n",
    "\n",
    "plt.subplot(2, 1, 1)\n",
    "plt.scatter(x=Y_train, y=Y_pred_train, c=\"#bd0026\", alpha=0.5)\n",
    "# Add trendline\n",
    "z = np.polyfit(Y_train, Y_pred_train, 1)\n",
    "p = np.poly1d(z)\n",
    "plt.plot(Y_test,p(Y_test),\"#636363\")\n",
    "plt.ylabel('Predicted Boiling Point (°C)')\n",
    "plt.title('Y Train vs Predicted Y Train')\n",
    "\n",
    "plt.subplot(2, 1, 2)\n",
    "plt.scatter(x=Y_test, y=Y_pred_test, c=\"#ff7f00\", alpha=0.5)\n",
    "z = np.polyfit(Y_test, Y_pred_test, 1)\n",
    "p = np.poly1d(z)\n",
    "plt.plot(Y_test,p(Y_test),\"#636363\")\n",
    "plt.ylabel('Predicted Boiling Point (°C)')\n",
    "plt.xlabel('Actual Boiling Point (°C)')\n",
    "plt.title('Y Test vs Predicted Y Test')\n",
    "\n",
    "# plt.savefig('plot_actual_vs_predicted.png')\n",
    "plt.show()"
   ]
  },
  {
   "cell_type": "markdown",
   "metadata": {},
   "source": [
    "### Part 5: Predicting Molecules Boiling Points"
   ]
  },
  {
   "cell_type": "code",
   "execution_count": 40,
   "metadata": {},
   "outputs": [
    {
     "name": "stdout",
     "output_type": "stream",
     "text": [
      "Tetrachloroethylene\n",
      "Actual Boiling Point (°C): 121.1\n",
      "Predicted Boiling Point (°C)143.7\n"
     ]
    }
   ],
   "source": [
    "#Using the model to predict unknown boiling point (Tetrachloroethylene = 121.1 °C)\n",
    "#Convert to SMILE:\n",
    "unknown = 'Tetrachloroethylene'\n",
    "unknown_Y = 121.1\n",
    "unknown_SMILE = CIRconvert(unknown)\n",
    "unknown_mol = Chem.MolFromSmiles(unknown_SMILE)\n",
    "#Calculate descriptors:\n",
    "unknown_molwt = Descriptors.MolWt(unknown_mol)\n",
    "unknown_HBonds = count_hbonds(unknown_mol)\n",
    "unknown_DegBonding = intramol(unknown_mol)\n",
    "unknown_df = pd.DataFrame([[unknown_molwt,unknown_HBonds, unknown_DegBonding]], columns=['MolecularWgt', 'HBonds', 'DegBonding'])\n",
    "# #Calculate predicted Y:\n",
    "unknown_predicted_Y = model.predict(unknown_df)\n",
    "#Compare:\n",
    "print(unknown)\n",
    "print('Actual Boiling Point (°C): ' + str(unknown_Y))\n",
    "print('Predicted Boiling Point (°C)' + str(round(unknown_predicted_Y[0], 2)))"
   ]
  },
  {
   "cell_type": "code",
   "execution_count": 41,
   "metadata": {},
   "outputs": [
    {
     "name": "stdout",
     "output_type": "stream",
     "text": [
      "1-Hexanol\n",
      "Actual Boiling Point (°C): 157\n",
      "Predicted Boiling Point (°C)151.11\n"
     ]
    }
   ],
   "source": [
    "#Using the model to predict unknown boiling point (1-Hexanol = 157 °C)\n",
    "#Convert to SMILE:\n",
    "unknown2 = '1-Hexanol'\n",
    "unknown2_Y = 157\n",
    "unknown2_SMILE = CIRconvert(unknown2)\n",
    "unknown2_mol = Chem.MolFromSmiles(unknown2_SMILE)\n",
    "#Calculate descriptors:\n",
    "unknown2_molwt = Descriptors.MolWt(unknown2_mol)\n",
    "unknown2_HBonds = count_hbonds(unknown2_mol)\n",
    "unknown2_DegBonding = intramol(unknown2_mol)\n",
    "unknown2_df = pd.DataFrame([[unknown2_molwt,unknown2_HBonds, unknown2_DegBonding]], columns=['MolecularWgt', 'HBonds', 'DegBonding'])\n",
    "# #Calculate predicted Y:\n",
    "unknown2_predicted_Y = model.predict(unknown2_df)\n",
    "#Compare:\n",
    "print(unknown2)\n",
    "print('Actual Boiling Point (°C): ' + str(unknown2_Y))\n",
    "print('Predicted Boiling Point (°C)' + str(round(unknown2_predicted_Y[0], 2)))"
   ]
  },
  {
   "cell_type": "code",
   "execution_count": null,
   "metadata": {},
   "outputs": [],
   "source": []
  }
 ],
 "metadata": {
  "kernelspec": {
   "display_name": "Python 3",
   "language": "python",
   "name": "python3"
  },
  "language_info": {
   "codemirror_mode": {
    "name": "ipython",
    "version": 3
   },
   "file_extension": ".py",
   "mimetype": "text/x-python",
   "name": "python",
   "nbconvert_exporter": "python",
   "pygments_lexer": "ipython3",
   "version": "3.7.4"
  }
 },
 "nbformat": 4,
 "nbformat_minor": 4
}
